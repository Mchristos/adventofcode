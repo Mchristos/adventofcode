{
 "cells": [
  {
   "cell_type": "code",
   "execution_count": 25,
   "id": "8b2b0ec8-dc73-4234-a1c3-0d1373ed6155",
   "metadata": {},
   "outputs": [],
   "source": [
    "import numpy as np \n",
    "import re"
   ]
  },
  {
   "cell_type": "code",
   "execution_count": 56,
   "id": "bd14d902-ac29-4ba7-bf12-682e5db6893a",
   "metadata": {},
   "outputs": [],
   "source": [
    "with open(\"inputs/day3.txt\") as f: \n",
    "    lines = [line.strip() for line in f.readlines()]\n",
    "    \n",
    "# lines"
   ]
  },
  {
   "cell_type": "code",
   "execution_count": 14,
   "id": "24098d57-55f1-4287-a8a3-3421d4b19a51",
   "metadata": {},
   "outputs": [],
   "source": [
    "def is_sym(x): return x != \".\" and not x.isdigit()\n",
    "\n",
    "def has_sym(s):\n",
    "    for c in s:\n",
    "        if is_sym(c): return True\n",
    "    return False\n",
    "\n",
    "def has_adjacent(i, range):\n",
    "    k, l = range\n",
    "    # extend range to include diags\n",
    "    if -1 < (k - 1):\n",
    "        k = k -1\n",
    "        # check left\n",
    "        if is_sym(lines[i][k]): return True\n",
    "    if l + 1 < len(lines[0]):\n",
    "        l = l + 1\n",
    "        # check right \n",
    "        if is_sym(lines[i][l-1]): return True\n",
    "    # check prev line\n",
    "    if -1 < (i - 1) and has_sym(lines[i-1][k:l]):\n",
    "        return True\n",
    "    # check next line\n",
    "    if (i + 1) < len(lines) and has_sym(lines[i+1][k:l]):\n",
    "        return True\n",
    "    return False"
   ]
  },
  {
   "cell_type": "code",
   "execution_count": 15,
   "id": "9d6bab20-ddd6-48d8-8779-908a4843bc8a",
   "metadata": {},
   "outputs": [
    {
     "data": {
      "text/plain": [
       "'467..114..'"
      ]
     },
     "execution_count": 15,
     "metadata": {},
     "output_type": "execute_result"
    }
   ],
   "source": [
    "i = 0\n",
    "lines[i]"
   ]
  },
  {
   "cell_type": "code",
   "execution_count": 13,
   "id": "d0ae7230-d169-498e-b4c6-1f590aae59d4",
   "metadata": {},
   "outputs": [
    {
     "data": {
      "text/plain": [
       "True"
      ]
     },
     "execution_count": 13,
     "metadata": {},
     "output_type": "execute_result"
    }
   ],
   "source": [
    "has_adjacent(i, [2:4])"
   ]
  },
  {
   "cell_type": "code",
   "execution_count": 58,
   "id": "52dbb79e-7deb-4e20-8feb-05ec815fb62d",
   "metadata": {},
   "outputs": [],
   "source": [
    "def sym(x): return 1 if is_sym(x) else 0\n",
    "X = np.array([[sym(char) for char in line] for line in lines])"
   ]
  },
  {
   "cell_type": "code",
   "execution_count": 59,
   "id": "562159bd-18d1-45c4-9b84-78be3763f90d",
   "metadata": {},
   "outputs": [
    {
     "data": {
      "text/plain": [
       "array([[0, 0, 0, ..., 0, 0, 0],\n",
       "       [0, 0, 0, ..., 0, 0, 0],\n",
       "       [0, 0, 0, ..., 0, 0, 0],\n",
       "       ...,\n",
       "       [0, 0, 0, ..., 0, 0, 0],\n",
       "       [0, 0, 0, ..., 0, 0, 0],\n",
       "       [0, 0, 0, ..., 0, 0, 0]])"
      ]
     },
     "execution_count": 59,
     "metadata": {},
     "output_type": "execute_result"
    }
   ],
   "source": [
    "X"
   ]
  },
  {
   "cell_type": "code",
   "execution_count": 60,
   "id": "7f25bffa-6802-49c6-a2ed-e23887e0442f",
   "metadata": {},
   "outputs": [
    {
     "data": {
      "text/plain": [
       "[(9, 12),\n",
       " (15, 18),\n",
       " (27, 30),\n",
       " (34, 37),\n",
       " (42, 45),\n",
       " (66, 69),\n",
       " (82, 85),\n",
       " (102, 105),\n",
       " (113, 116)]"
      ]
     },
     "execution_count": 60,
     "metadata": {},
     "output_type": "execute_result"
    }
   ],
   "source": [
    "[(m.start(0), m.end(0)) for m in re.finditer(r'\\b\\d{1,5}\\b', lines[0])]"
   ]
  },
  {
   "cell_type": "code",
   "execution_count": 61,
   "id": "f7fc4455-2024-430d-b115-77b1f9c83da7",
   "metadata": {},
   "outputs": [
    {
     "data": {
      "text/plain": [
       "array([[0, 0],\n",
       "       [0, 0],\n",
       "       [0, 0],\n",
       "       [0, 0]])"
      ]
     },
     "execution_count": 61,
     "metadata": {},
     "output_type": "execute_result"
    }
   ],
   "source": [
    "X[0:4, 2:4]"
   ]
  },
  {
   "cell_type": "code",
   "execution_count": 62,
   "id": "3ddeb221-e47f-417d-930f-9f0f7b5c5f67",
   "metadata": {},
   "outputs": [
    {
     "data": {
      "text/plain": [
       "520135"
      ]
     },
     "execution_count": 62,
     "metadata": {},
     "output_type": "execute_result"
    }
   ],
   "source": [
    "sum = 0\n",
    "for i, line in enumerate(lines):\n",
    "    ranges = [(m.start(0), m.end(0)) for m in re.finditer(r'\\b\\d{1,5}\\b', line)]\n",
    "    for start, end in ranges:\n",
    "        num = line[start:end]\n",
    "        left = max(0, start - 1)\n",
    "        right = min(end + 1, len(line) -1)\n",
    "        top = max(0, i - 1)\n",
    "        bottom = min(i + 2, len(lines)-1)\n",
    "        if X[top:bottom,left:right].sum() > 0:\n",
    "            # print(num, \"has sym\")\n",
    "            sum += int(num)\n",
    "sum"
   ]
  },
  {
   "cell_type": "code",
   "execution_count": 47,
   "id": "9eb7108a-a604-4174-8487-e80cd289c8d9",
   "metadata": {},
   "outputs": [
    {
     "data": {
      "text/plain": [
       "1"
      ]
     },
     "execution_count": 47,
     "metadata": {},
     "output_type": "execute_result"
    }
   ],
   "source": [
    "X[top:bottom,left:right].sum()"
   ]
  },
  {
   "cell_type": "code",
   "execution_count": null,
   "id": "adfed51d-2006-4035-87ee-84588a0d7550",
   "metadata": {},
   "outputs": [],
   "source": []
  }
 ],
 "metadata": {
  "kernelspec": {
   "display_name": "Python 3 (ipykernel)",
   "language": "python",
   "name": "python3"
  },
  "language_info": {
   "codemirror_mode": {
    "name": "ipython",
    "version": 3
   },
   "file_extension": ".py",
   "mimetype": "text/x-python",
   "name": "python",
   "nbconvert_exporter": "python",
   "pygments_lexer": "ipython3",
   "version": "3.10.12"
  }
 },
 "nbformat": 4,
 "nbformat_minor": 5
}
