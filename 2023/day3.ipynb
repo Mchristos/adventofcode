{
 "cells": [
  {
   "cell_type": "code",
   "execution_count": 25,
   "id": "8b2b0ec8-dc73-4234-a1c3-0d1373ed6155",
   "metadata": {},
   "outputs": [],
   "source": [
    "import numpy as np \n",
    "import re"
   ]
  },
  {
   "cell_type": "code",
   "execution_count": 73,
   "id": "bd14d902-ac29-4ba7-bf12-682e5db6893a",
   "metadata": {},
   "outputs": [],
   "source": [
    "with open(\"inputs/day3.txt\") as f: \n",
    "    lines = [line.strip() for line in f.readlines()]\n",
    "# lines"
   ]
  },
  {
   "cell_type": "code",
   "execution_count": 63,
   "id": "24098d57-55f1-4287-a8a3-3421d4b19a51",
   "metadata": {},
   "outputs": [],
   "source": [
    "def is_sym(x): return x != \".\" and not x.isdigit()"
   ]
  },
  {
   "cell_type": "code",
   "execution_count": 64,
   "id": "9d6bab20-ddd6-48d8-8779-908a4843bc8a",
   "metadata": {},
   "outputs": [
    {
     "data": {
      "text/plain": [
       "'.........798...145.........629....579.....455.....................130.............243.................154........167........................'"
      ]
     },
     "execution_count": 64,
     "metadata": {},
     "output_type": "execute_result"
    }
   ],
   "source": [
    "i = 0\n",
    "lines[i]"
   ]
  },
  {
   "cell_type": "code",
   "execution_count": 66,
   "id": "52dbb79e-7deb-4e20-8feb-05ec815fb62d",
   "metadata": {},
   "outputs": [],
   "source": [
    "def sym(x): return 1 if is_sym(x) else 0\n",
    "X = np.array([[sym(char) for char in line] for line in lines])"
   ]
  },
  {
   "cell_type": "code",
   "execution_count": 67,
   "id": "562159bd-18d1-45c4-9b84-78be3763f90d",
   "metadata": {},
   "outputs": [
    {
     "data": {
      "text/plain": [
       "array([[0, 0, 0, ..., 0, 0, 0],\n",
       "       [0, 0, 0, ..., 0, 0, 0],\n",
       "       [0, 0, 0, ..., 0, 0, 0],\n",
       "       ...,\n",
       "       [0, 0, 0, ..., 0, 0, 0],\n",
       "       [0, 0, 0, ..., 0, 0, 0],\n",
       "       [0, 0, 0, ..., 0, 0, 0]])"
      ]
     },
     "execution_count": 67,
     "metadata": {},
     "output_type": "execute_result"
    }
   ],
   "source": [
    "X"
   ]
  },
  {
   "cell_type": "code",
   "execution_count": 68,
   "id": "7f25bffa-6802-49c6-a2ed-e23887e0442f",
   "metadata": {},
   "outputs": [
    {
     "data": {
      "text/plain": [
       "[(9, 12),\n",
       " (15, 18),\n",
       " (27, 30),\n",
       " (34, 37),\n",
       " (42, 45),\n",
       " (66, 69),\n",
       " (82, 85),\n",
       " (102, 105),\n",
       " (113, 116)]"
      ]
     },
     "execution_count": 68,
     "metadata": {},
     "output_type": "execute_result"
    }
   ],
   "source": [
    "[(m.start(0), m.end(0)) for m in re.finditer(r'\\b\\d{1,5}\\b', lines[0])]"
   ]
  },
  {
   "cell_type": "code",
   "execution_count": 70,
   "id": "f7fc4455-2024-430d-b115-77b1f9c83da7",
   "metadata": {},
   "outputs": [
    {
     "data": {
      "text/plain": [
       "array([[0, 0, 0, 0, 0, 0, 0, 0, 0, 0, 0, 0, 0, 0, 0, 0, 0, 0],\n",
       "       [0, 0, 0, 0, 0, 0, 0, 0, 0, 0, 1, 0, 0, 0, 0, 0, 1, 0],\n",
       "       [0, 0, 0, 0, 0, 0, 0, 0, 0, 0, 0, 0, 0, 0, 0, 0, 0, 0],\n",
       "       [0, 0, 0, 0, 0, 0, 0, 0, 0, 1, 0, 0, 0, 0, 0, 0, 0, 0]])"
      ]
     },
     "execution_count": 70,
     "metadata": {},
     "output_type": "execute_result"
    }
   ],
   "source": [
    "X[0:4, 2:20]"
   ]
  },
  {
   "cell_type": "code",
   "execution_count": 71,
   "id": "3ddeb221-e47f-417d-930f-9f0f7b5c5f67",
   "metadata": {},
   "outputs": [
    {
     "data": {
      "text/plain": [
       "520135"
      ]
     },
     "execution_count": 71,
     "metadata": {},
     "output_type": "execute_result"
    }
   ],
   "source": [
    "sum = 0\n",
    "for i, line in enumerate(lines):\n",
    "    ranges = [(m.start(0), m.end(0)) for m in re.finditer(r'\\b\\d{1,5}\\b', line)]\n",
    "    for start, end in ranges:\n",
    "        num = line[start:end]\n",
    "        left = max(0, start - 1)\n",
    "        right = min(end + 1, len(line) -1)\n",
    "        top = max(0, i - 1)\n",
    "        bottom = min(i + 2, len(lines)-1)\n",
    "        if X[top:bottom,left:right].sum() > 0:\n",
    "            # print(num, \"has sym\")\n",
    "            sum += int(num)\n",
    "sum"
   ]
  }
 ],
 "metadata": {
  "kernelspec": {
   "display_name": "Python 3 (ipykernel)",
   "language": "python",
   "name": "python3"
  },
  "language_info": {
   "codemirror_mode": {
    "name": "ipython",
    "version": 3
   },
   "file_extension": ".py",
   "mimetype": "text/x-python",
   "name": "python",
   "nbconvert_exporter": "python",
   "pygments_lexer": "ipython3",
   "version": "3.10.12"
  }
 },
 "nbformat": 4,
 "nbformat_minor": 5
}
