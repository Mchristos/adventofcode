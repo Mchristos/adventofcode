{
 "cells": [
  {
   "cell_type": "code",
   "execution_count": 189,
   "id": "d2a90886-8910-4a6e-ae03-839c2eee85e1",
   "metadata": {},
   "outputs": [],
   "source": [
    "with open(\"inputs/day5_.txt\", \"r\") as f:\n",
    "    lines = f.readlines()\n",
    "    lines = [line.strip() for line in lines]\n",
    "lines_ = lines\n",
    "with open(\"inputs/day5.txt\", \"r\") as f:\n",
    "    lines = f.readlines()\n",
    "    lines = [line.strip() for line in lines]\n",
    "lines_5 = lines"
   ]
  },
  {
   "cell_type": "code",
   "execution_count": 7,
   "id": "8ff9b881-a229-453d-8f91-cad027a43a8b",
   "metadata": {},
   "outputs": [
    {
     "name": "stdout",
     "output_type": "stream",
     "text": [
      "Pretty printing has been turned OFF\n"
     ]
    }
   ],
   "source": [
    "%pprint"
   ]
  },
  {
   "cell_type": "code",
   "execution_count": 191,
   "id": "628bfb06-436b-4a96-b4b1-e083041e5426",
   "metadata": {},
   "outputs": [
    {
     "data": {
      "text/plain": [
       "['seeds: 79 14 55 13', '', 'seed-to-soil map:', '50 98 2', '52 50 48', '', 'soil-to-fertilizer map:', '0 15 37', '37 52 2', '39 0 15', '', 'fertilizer-to-water map:', '49 53 8', '0 11 42', '42 0 7', '57 7 4', '', 'water-to-light map:', '88 18 7', '18 25 70', '', 'light-to-temperature map:', '45 77 23', '81 45 19', '68 64 13', '', 'temperature-to-humidity map:', '0 69 1', '1 0 69', '', 'humidity-to-location map:', '60 56 37', '56 93 4']"
      ]
     },
     "execution_count": 191,
     "metadata": {},
     "output_type": "execute_result"
    }
   ],
   "source": [
    "lines_"
   ]
  },
  {
   "cell_type": "code",
   "execution_count": 56,
   "id": "3b30ac12-e5e7-4373-a8cb-00acfb0fcaae",
   "metadata": {},
   "outputs": [
    {
     "data": {
      "text/plain": [
       "33"
      ]
     },
     "execution_count": 56,
     "metadata": {},
     "output_type": "execute_result"
    }
   ],
   "source": [
    "len(lines)"
   ]
  },
  {
   "cell_type": "code",
   "execution_count": 195,
   "id": "e97a3c34-3905-41df-b808-dcb21ac3a2f4",
   "metadata": {},
   "outputs": [
    {
     "data": {
      "text/plain": [
       "[222541566, 218404460, 670428364, 432472902, 2728902838, 12147727, 3962570697, 52031641, 2849288350, 113747257, 3648852659, 73423293, 4036058422, 190602154, 1931540843, 584314999, 3344622241, 180428346, 1301166628, 310966761]"
      ]
     },
     "execution_count": 195,
     "metadata": {},
     "output_type": "execute_result"
    }
   ],
   "source": [
    "seeds = [int(x) for x in lines[0].split(\" \")[1:]]; seeds"
   ]
  },
  {
   "cell_type": "code",
   "execution_count": 22,
   "id": "280cdfad-93fc-4d66-bfba-6dfda095671b",
   "metadata": {},
   "outputs": [
    {
     "name": "stdout",
     "output_type": "stream",
     "text": [
      "seed-to-soil map:\n",
      "50 98 2\n",
      "52 50 48\n"
     ]
    }
   ],
   "source": [
    "i = 2\n",
    "while lines[i]:\n",
    "    print(lines[i])\n",
    "    i = i + 1"
   ]
  },
  {
   "cell_type": "code",
   "execution_count": 88,
   "id": "7e5eb52a-e2dc-49b3-b321-1c50515ff1fc",
   "metadata": {},
   "outputs": [],
   "source": [
    "types = ['seed', 'soil', 'fertilizer', 'water', 'light', 'temperature', 'humidity', 'location']\n",
    "def get_rules(i):\n",
    "    header = f\"{types[i]}-to-{types[i+1]} map:\"\n",
    "    j = lines.index(header) + 1\n",
    "    result = []\n",
    "    while j < len(lines) and lines[j]:\n",
    "        result.append([int(x) for x in lines[j].split(\" \")])\n",
    "        j = j + 1\n",
    "    return result"
   ]
  },
  {
   "cell_type": "code",
   "execution_count": 89,
   "id": "68d58592-c816-454b-8b09-8cd56cef3d83",
   "metadata": {},
   "outputs": [
    {
     "data": {
      "text/plain": [
       "[[50, 98, 2], [52, 50, 48]]"
      ]
     },
     "execution_count": 89,
     "metadata": {},
     "output_type": "execute_result"
    }
   ],
   "source": [
    "get_rules(0)"
   ]
  },
  {
   "cell_type": "code",
   "execution_count": 90,
   "id": "53228388-b08f-4ba4-996c-ff1be636cc4c",
   "metadata": {},
   "outputs": [
    {
     "data": {
      "text/plain": [
       "[[60, 56, 37], [56, 93, 4]]"
      ]
     },
     "execution_count": 90,
     "metadata": {},
     "output_type": "execute_result"
    }
   ],
   "source": [
    "get_rules(6)"
   ]
  },
  {
   "cell_type": "code",
   "execution_count": 109,
   "id": "79b10c4d-c77e-4587-9321-373f6168801c",
   "metadata": {},
   "outputs": [
    {
     "data": {
      "text/plain": [
       "[51, 52, 53, 54, 55, 56, 57, 58, 59, 60]"
      ]
     },
     "execution_count": 109,
     "metadata": {},
     "output_type": "execute_result"
    }
   ],
   "source": [
    "list(range(51, 51 + 10))"
   ]
  },
  {
   "cell_type": "code",
   "execution_count": 170,
   "id": "31bf2548-ece9-442c-a172-563f1dc0aaaf",
   "metadata": {},
   "outputs": [],
   "source": [
    "def get_map(i):\n",
    "    rules = get_rules(i)\n",
    "    def map(x):\n",
    "        for rule in rules:\n",
    "            dest_start, source_start, leng = rule\n",
    "            if x in range(source_start, source_start + leng):\n",
    "                return dest_start + (x - source_start)\n",
    "        return x\n",
    "    return map"
   ]
  },
  {
   "cell_type": "code",
   "execution_count": 171,
   "id": "f318939d-2478-45a1-82e8-b19136200769",
   "metadata": {},
   "outputs": [],
   "source": [
    "map0 = get_map(0)"
   ]
  },
  {
   "cell_type": "code",
   "execution_count": 172,
   "id": "191aca4a-4a3f-4f2c-9220-acbeb52eecca",
   "metadata": {},
   "outputs": [
    {
     "data": {
      "text/plain": [
       "{0: 0, 1: 1, 2: 2, 3: 3, 4: 4, 5: 5, 6: 6, 7: 7, 8: 8, 9: 9, 10: 10, 11: 11, 12: 12, 13: 13, 14: 14, 15: 15, 16: 16, 17: 17, 18: 18, 19: 19, 20: 20, 21: 21, 22: 22, 23: 23, 24: 24, 25: 25, 26: 26, 27: 27, 28: 28, 29: 29, 30: 30, 31: 31, 32: 32, 33: 33, 34: 34, 35: 35, 36: 36, 37: 37, 38: 38, 39: 39, 40: 40, 41: 41, 42: 42, 43: 43, 44: 44, 45: 45, 46: 46, 47: 47, 48: 48, 49: 49, 50: 52, 51: 53, 52: 54, 53: 55, 54: 56, 55: 57, 56: 58, 57: 59, 58: 60, 59: 61, 60: 62, 61: 63, 62: 64, 63: 65, 64: 66, 65: 67, 66: 68, 67: 69, 68: 70, 69: 71, 70: 72, 71: 73, 72: 74, 73: 75, 74: 76, 75: 77, 76: 78, 77: 79, 78: 80, 79: 81, 80: 82, 81: 83, 82: 84, 83: 85, 84: 86, 85: 87, 86: 88, 87: 89, 88: 90, 89: 91, 90: 92, 91: 93, 92: 94, 93: 95, 94: 96, 95: 97, 96: 98, 97: 99, 98: 50, 99: 51}"
      ]
     },
     "execution_count": 172,
     "metadata": {},
     "output_type": "execute_result"
    }
   ],
   "source": [
    "{i: map0(i) for i in range(100)}"
   ]
  },
  {
   "cell_type": "code",
   "execution_count": 173,
   "id": "f64e96cb-9f75-427f-bbde-28b85ec53b84",
   "metadata": {},
   "outputs": [
    {
     "data": {
      "text/plain": [
       "81"
      ]
     },
     "execution_count": 173,
     "metadata": {},
     "output_type": "execute_result"
    }
   ],
   "source": [
    "get_map(0)(79)"
   ]
  },
  {
   "cell_type": "code",
   "execution_count": 174,
   "id": "3f0add90-5a0c-4850-99e9-e3cecc6b4e99",
   "metadata": {},
   "outputs": [
    {
     "data": {
      "text/plain": [
       "81"
      ]
     },
     "execution_count": 174,
     "metadata": {},
     "output_type": "execute_result"
    }
   ],
   "source": [
    "get_map(1)(81)"
   ]
  },
  {
   "cell_type": "code",
   "execution_count": 175,
   "id": "6f8e681d-bf75-453f-b185-b6fe277c4fa8",
   "metadata": {},
   "outputs": [],
   "source": [
    "maps = [get_map(i) for i in range(len(types)-1)]"
   ]
  },
  {
   "cell_type": "code",
   "execution_count": 194,
   "id": "eb4c686c-576f-406b-bd99-125efbbffe0a",
   "metadata": {},
   "outputs": [],
   "source": [
    "# lines"
   ]
  },
  {
   "cell_type": "code",
   "execution_count": 197,
   "id": "fa61964e-a2cc-41bc-a111-d42c08d9410f",
   "metadata": {},
   "outputs": [
    {
     "data": {
      "text/plain": [
       "35"
      ]
     },
     "execution_count": 197,
     "metadata": {},
     "output_type": "execute_result"
    }
   ],
   "source": [
    "def solve():\n",
    "    results = []\n",
    "    for seed in seeds:\n",
    "        res = seed \n",
    "        for map in maps:\n",
    "            res = map(res)\n",
    "        results.append(res)\n",
    "    return min(results)\n",
    "lines = lines_\n",
    "seeds = [int(x) for x in lines[0].split(\" \")[1:]]; seeds\n",
    "solve()"
   ]
  },
  {
   "cell_type": "code",
   "execution_count": null,
   "id": "ecffde1c-9a55-47b8-8a27-aa46be024625",
   "metadata": {},
   "outputs": [],
   "source": [
    "def rangemap(start, end, rules)\n",
    "    for rule in rules \n",
    "    dest_start, source_start, leng = rule\n",
    "    if x in range(source_start, source_start + leng):\n",
    "        return dest_start + (x - source_start)\n",
    "    return x"
   ]
  },
  {
   "cell_type": "code",
   "execution_count": 155,
   "id": "055d7cb9-06b3-4cdc-a1cc-1905231c868b",
   "metadata": {},
   "outputs": [
    {
     "name": "stderr",
     "output_type": "stream",
     "text": [
      "\n",
      "KeyboardInterrupt\n",
      "\n"
     ]
    }
   ],
   "source": [
    "newseeds = []\n",
    "for i in range(0, len(seeds), 2):\n",
    "    start, count = seeds[i:i+2]\n",
    "    range_ = range(start, start + count)\n"
   ]
  },
  {
   "cell_type": "code",
   "execution_count": null,
   "id": "f43ab0bb-4bfb-42af-860f-49267a687797",
   "metadata": {},
   "outputs": [],
   "source": []
  }
 ],
 "metadata": {
  "kernelspec": {
   "display_name": "Python 3 (ipykernel)",
   "language": "python",
   "name": "python3"
  },
  "language_info": {
   "codemirror_mode": {
    "name": "ipython",
    "version": 3
   },
   "file_extension": ".py",
   "mimetype": "text/x-python",
   "name": "python",
   "nbconvert_exporter": "python",
   "pygments_lexer": "ipython3",
   "version": "3.10.13"
  }
 },
 "nbformat": 4,
 "nbformat_minor": 5
}
