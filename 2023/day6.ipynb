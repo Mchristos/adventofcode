{
 "cells": [
  {
   "cell_type": "code",
   "execution_count": 19,
   "id": "89c41cae-f5ca-4e05-af43-752c0aa49c72",
   "metadata": {},
   "outputs": [
    {
     "data": {
      "text/plain": [
       "['Time:        38     67     76     73\\n',\n",
       " 'Distance:   234   1027   1157   1236']"
      ]
     },
     "execution_count": 19,
     "metadata": {},
     "output_type": "execute_result"
    }
   ],
   "source": [
    "with open(\"inputs/day6.txt\") as f: lines = f.readlines()\n",
    "lines"
   ]
  },
  {
   "cell_type": "code",
   "execution_count": 20,
   "id": "0a02944a-20a0-49a4-bd32-7dcf3341ab0a",
   "metadata": {},
   "outputs": [],
   "source": [
    "import re\n",
    "def get_data(lines):\n",
    "    return [[int(x) for x in re.findall(r'\\b\\d{1,5}\\b', line)] for line in lines]\n",
    "times, dists = get_data(lines)"
   ]
  },
  {
   "cell_type": "code",
   "execution_count": 21,
   "id": "aa93d6b7-cbe3-40b8-bf82-65c5f7217917",
   "metadata": {},
   "outputs": [
    {
     "data": {
      "text/plain": [
       "([38, 67, 76, 73], [234, 1027, 1157, 1236])"
      ]
     },
     "execution_count": 21,
     "metadata": {},
     "output_type": "execute_result"
    }
   ],
   "source": [
    "times, dists"
   ]
  },
  {
   "cell_type": "code",
   "execution_count": 22,
   "id": "0ac17970-3162-49fb-ae53-29dd87ca5f31",
   "metadata": {},
   "outputs": [
    {
     "name": "stdout",
     "output_type": "stream",
     "text": [
      "38 millisec race\n",
      "23\n",
      "23\n",
      "67 millisec race\n",
      "20\n",
      "460\n",
      "76 millisec race\n",
      "33\n",
      "15180\n",
      "73 millisec race\n",
      "20\n",
      "303600\n"
     ]
    }
   ],
   "source": [
    "# for each race\n",
    "result = 1\n",
    "for time, dist_record in zip(times, dists):\n",
    "    print(time, \"millisec race\")\n",
    "    # find winning hold times\n",
    "    count = 0\n",
    "    for hold in range(time + 1):\n",
    "        # speed = hold time\n",
    "        speed = hold\n",
    "        run_time = time - hold\n",
    "        dist = speed * run_time\n",
    "        if dist > dist_record:\n",
    "            count += 1\n",
    "    result *= count\n",
    "    print(count)\n",
    "    print(result)\n",
    "            "
   ]
  },
  {
   "cell_type": "markdown",
   "id": "1f26fe8a-af5d-4df9-b439-714bc2310dcc",
   "metadata": {},
   "source": [
    "# Part 2"
   ]
  },
  {
   "cell_type": "code",
   "execution_count": 36,
   "id": "ae305ee0-6f71-41bf-b0c9-16457c8dc532",
   "metadata": {},
   "outputs": [
    {
     "data": {
      "text/plain": [
       "['Time:        38     67     76     73\\n',\n",
       " 'Distance:   234   1027   1157   1236']"
      ]
     },
     "execution_count": 36,
     "metadata": {},
     "output_type": "execute_result"
    }
   ],
   "source": [
    "with open(\"inputs/day6.txt\") as f: lines = f.readlines()\n",
    "lines"
   ]
  },
  {
   "cell_type": "code",
   "execution_count": 37,
   "id": "fcdb0bf3-45ea-4df7-97f2-beb8a5da3cb6",
   "metadata": {},
   "outputs": [
    {
     "data": {
      "text/plain": [
       "(38677673, 234102711571236)"
      ]
     },
     "execution_count": 37,
     "metadata": {},
     "output_type": "execute_result"
    }
   ],
   "source": [
    "import re\n",
    "def get_data(lines):\n",
    "    return [ int(reduce(lambda x, y: x + y, re.findall(r'\\b\\d{1,5}\\b', line))) for line in lines]\n",
    "time, dist = get_data(lines)\n",
    "time, dist"
   ]
  },
  {
   "cell_type": "code",
   "execution_count": 38,
   "id": "0108b934-11e6-42c9-8185-4104826aa419",
   "metadata": {},
   "outputs": [
    {
     "data": {
      "text/plain": [
       "'71530'"
      ]
     },
     "execution_count": 38,
     "metadata": {},
     "output_type": "execute_result"
    }
   ],
   "source": [
    "from functools import reduce\n",
    "reduce(lambda x, y: x + y, ['7', '15', '30'])"
   ]
  },
  {
   "cell_type": "code",
   "execution_count": 39,
   "id": "6a53b9e0-c72d-424c-af88-f3a02d83c30a",
   "metadata": {},
   "outputs": [],
   "source": [
    "count = 0\n",
    "for hold in range(time + 1):\n",
    "    # speed = hold time\n",
    "    speed = hold\n",
    "    run_time = time - hold\n",
    "    d = speed * run_time\n",
    "    if d > dist:\n",
    "        count += 1"
   ]
  },
  {
   "cell_type": "code",
   "execution_count": 40,
   "id": "ca54155c-949a-4a52-a8cb-20c5adc4e303",
   "metadata": {},
   "outputs": [
    {
     "data": {
      "text/plain": [
       "23654842"
      ]
     },
     "execution_count": 40,
     "metadata": {},
     "output_type": "execute_result"
    }
   ],
   "source": [
    "count"
   ]
  },
  {
   "cell_type": "code",
   "execution_count": null,
   "id": "c73621ea-e32e-4fad-82d8-da518f4ffef9",
   "metadata": {},
   "outputs": [],
   "source": []
  }
 ],
 "metadata": {
  "kernelspec": {
   "display_name": "Python 3 (ipykernel)",
   "language": "python",
   "name": "python3"
  },
  "language_info": {
   "codemirror_mode": {
    "name": "ipython",
    "version": 3
   },
   "file_extension": ".py",
   "mimetype": "text/x-python",
   "name": "python",
   "nbconvert_exporter": "python",
   "pygments_lexer": "ipython3",
   "version": "3.10.12"
  }
 },
 "nbformat": 4,
 "nbformat_minor": 5
}
